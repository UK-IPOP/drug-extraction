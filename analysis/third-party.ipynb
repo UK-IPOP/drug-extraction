{
 "cells": [
  {
   "cell_type": "code",
   "execution_count": 18,
   "metadata": {},
   "outputs": [],
   "source": [
    "import pandas as pd\n",
    "from pathlib import Path\n",
    "import json"
   ]
  },
  {
   "cell_type": "code",
   "execution_count": 30,
   "metadata": {},
   "outputs": [
    {
     "data": {
      "text/plain": [
       "{'casenumber': 'ME2021-10793',\n",
       " 'results': [{'distance': 0,\n",
       "   'level': 'primary_combined',\n",
       "   'metric': 'NormalizedLevenshtein',\n",
       "   'time': 3e-06,\n",
       "   'word': 'PNEUMONIA'},\n",
       "  {'distance': 0,\n",
       "   'level': 'primary_combined',\n",
       "   'metric': 'NormalizedLevenshtein',\n",
       "   'time': 1e-06,\n",
       "   'word': 'NOVEL'},\n",
       "  {'distance': 0,\n",
       "   'level': 'primary_combined',\n",
       "   'metric': 'NormalizedLevenshtein',\n",
       "   'time': 1.083e-06,\n",
       "   'word': 'CORONA'},\n",
       "  {'distance': 0,\n",
       "   'level': 'primary_combined',\n",
       "   'metric': 'NormalizedLevenshtein',\n",
       "   'time': 1.291e-06,\n",
       "   'word': 'COVID-19'},\n",
       "  {'distance': 0,\n",
       "   'level': 'primary_combined',\n",
       "   'metric': 'NormalizedLevenshtein',\n",
       "   'time': 8.75e-07,\n",
       "   'word': 'VIRAL'},\n",
       "  {'distance': 0,\n",
       "   'level': 'primary_combined',\n",
       "   'metric': 'NormalizedLevenshtein',\n",
       "   'time': 1.375e-06,\n",
       "   'word': 'INFECTION'}],\n",
       " 'language': 'go'}"
      ]
     },
     "execution_count": 30,
     "metadata": {},
     "output_type": "execute_result"
    }
   ],
   "source": [
    "# load data, set language field using file name\n",
    "data = []\n",
    "for p in Path('../data').iterdir():\n",
    "    if p.name != \"records.jsonl\" and p.name.__contains__(\"jsonl\"):\n",
    "        lang = p.name.split(\"-\")[0]\n",
    "        with open(p, 'r') as file:\n",
    "            for line in file:\n",
    "                line_data = json.loads(line)\n",
    "                line_data['language'] = lang\n",
    "                data.append(line_data)\n",
    "\n",
    "# remove unneeded quotes from some fields\n",
    "for record in data:\n",
    "    record['casenumber'] = record['casenumber'].strip(\"\\\"\")\n",
    "    for result in record['results']:\n",
    "        result['word'] = result['word'].strip(\"\\\"\")\n",
    "\n",
    "data[0]"
   ]
  },
  {
   "cell_type": "code",
   "execution_count": 31,
   "metadata": {},
   "outputs": [
    {
     "data": {
      "text/plain": [
       "[{'distance': 0,\n",
       "  'level': 'primary_combined',\n",
       "  'metric': 'NormalizedLevenshtein',\n",
       "  'time': 3e-06,\n",
       "  'word': 'PNEUMONIA',\n",
       "  'casenumber': 'ME2021-10793',\n",
       "  'language': 'go'},\n",
       " {'distance': 0,\n",
       "  'level': 'primary_combined',\n",
       "  'metric': 'NormalizedLevenshtein',\n",
       "  'time': 1e-06,\n",
       "  'word': 'NOVEL',\n",
       "  'casenumber': 'ME2021-10793',\n",
       "  'language': 'go'}]"
      ]
     },
     "execution_count": 31,
     "metadata": {},
     "output_type": "execute_result"
    }
   ],
   "source": [
    "table = []\n",
    "for case in data:\n",
    "    for result in case['results']:\n",
    "        result['casenumber'] = case['casenumber']\n",
    "        result['language'] = case['language']\n",
    "        table.append(result)\n",
    "\n",
    "table[:2]"
   ]
  },
  {
   "cell_type": "code",
   "execution_count": 32,
   "metadata": {},
   "outputs": [
    {
     "data": {
      "text/plain": [
       "(2463054, 7)"
      ]
     },
     "execution_count": 32,
     "metadata": {},
     "output_type": "execute_result"
    }
   ],
   "source": [
    "df = pd.DataFrame(table)\n",
    "df.distance = df.distance.astype(float)\n",
    "df.time = df.time.astype(float)\n",
    "df.shape"
   ]
  },
  {
   "cell_type": "code",
   "execution_count": 33,
   "metadata": {},
   "outputs": [
    {
     "data": {
      "text/plain": [
       "(1231583, 7)"
      ]
     },
     "execution_count": 33,
     "metadata": {},
     "output_type": "execute_result"
    }
   ],
   "source": [
    "df[df.distance > 0].shape"
   ]
  },
  {
   "cell_type": "code",
   "execution_count": 34,
   "metadata": {},
   "outputs": [
    {
     "data": {
      "text/plain": [
       "go        821018\n",
       "python    821018\n",
       "rust      821018\n",
       "Name: language, dtype: int64"
      ]
     },
     "execution_count": 34,
     "metadata": {},
     "output_type": "execute_result"
    }
   ],
   "source": [
    "# python > go > rust in capturing records somehow\n",
    "# shouldn't we all have X number of words and thus X matches?\n",
    "df.language.value_counts()"
   ]
  },
  {
   "cell_type": "code",
   "execution_count": 35,
   "metadata": {},
   "outputs": [
    {
     "data": {
      "text/plain": [
       "NormalizedLevenshtein    1231527\n",
       "JaroWinkler              1231527\n",
       "Name: metric, dtype: int64"
      ]
     },
     "execution_count": 35,
     "metadata": {},
     "output_type": "execute_result"
    }
   ],
   "source": [
    "df.metric.value_counts()"
   ]
  },
  {
   "cell_type": "code",
   "execution_count": 26,
   "metadata": {},
   "outputs": [],
   "source": [
    "df.sample(1000).to_csv(\"output.csv\")"
   ]
  },
  {
   "cell_type": "code",
   "execution_count": 36,
   "metadata": {},
   "outputs": [
    {
     "data": {
      "text/html": [
       "<div>\n",
       "<style scoped>\n",
       "    .dataframe tbody tr th:only-of-type {\n",
       "        vertical-align: middle;\n",
       "    }\n",
       "\n",
       "    .dataframe tbody tr th {\n",
       "        vertical-align: top;\n",
       "    }\n",
       "\n",
       "    .dataframe thead th {\n",
       "        text-align: right;\n",
       "    }\n",
       "</style>\n",
       "<table border=\"1\" class=\"dataframe\">\n",
       "  <thead>\n",
       "    <tr style=\"text-align: right;\">\n",
       "      <th></th>\n",
       "      <th>distance</th>\n",
       "      <th>level</th>\n",
       "      <th>metric</th>\n",
       "      <th>time</th>\n",
       "      <th>word</th>\n",
       "      <th>casenumber</th>\n",
       "      <th>language</th>\n",
       "    </tr>\n",
       "  </thead>\n",
       "  <tbody>\n",
       "    <tr>\n",
       "      <th>1911503</th>\n",
       "      <td>0.875</td>\n",
       "      <td>primary_combined</td>\n",
       "      <td>NormalizedLevenshtein</td>\n",
       "      <td>0.000012</td>\n",
       "      <td>TOXICITY</td>\n",
       "      <td>ME2018-05119</td>\n",
       "      <td>python</td>\n",
       "    </tr>\n",
       "  </tbody>\n",
       "</table>\n",
       "</div>"
      ],
      "text/plain": [
       "         distance             level                 metric      time  \\\n",
       "1911503     0.875  primary_combined  NormalizedLevenshtein  0.000012   \n",
       "\n",
       "             word    casenumber language  \n",
       "1911503  TOXICITY  ME2018-05119   python  "
      ]
     },
     "execution_count": 36,
     "metadata": {},
     "output_type": "execute_result"
    }
   ],
   "source": [
    "df.sample()"
   ]
  },
  {
   "cell_type": "code",
   "execution_count": 37,
   "metadata": {},
   "outputs": [
    {
     "data": {
      "text/html": [
       "<div>\n",
       "<style scoped>\n",
       "    .dataframe tbody tr th:only-of-type {\n",
       "        vertical-align: middle;\n",
       "    }\n",
       "\n",
       "    .dataframe tbody tr th {\n",
       "        vertical-align: top;\n",
       "    }\n",
       "\n",
       "    .dataframe thead th {\n",
       "        text-align: right;\n",
       "    }\n",
       "</style>\n",
       "<table border=\"1\" class=\"dataframe\">\n",
       "  <thead>\n",
       "    <tr style=\"text-align: right;\">\n",
       "      <th></th>\n",
       "      <th>distance</th>\n",
       "      <th>level</th>\n",
       "      <th>metric</th>\n",
       "      <th>time</th>\n",
       "      <th>word</th>\n",
       "      <th>casenumber</th>\n",
       "      <th>language</th>\n",
       "    </tr>\n",
       "  </thead>\n",
       "  <tbody>\n",
       "    <tr>\n",
       "      <th>1187551</th>\n",
       "      <td>0.0</td>\n",
       "      <td>primary_combined</td>\n",
       "      <td>NormalizedLevenshtein</td>\n",
       "      <td>1.660000e-07</td>\n",
       "      <td>INTOXICATION</td>\n",
       "      <td>ME2016-00132</td>\n",
       "      <td>rust</td>\n",
       "    </tr>\n",
       "    <tr>\n",
       "      <th>1589794</th>\n",
       "      <td>1.0</td>\n",
       "      <td>primary_combined</td>\n",
       "      <td>JaroWinkler</td>\n",
       "      <td>8.300000e-08</td>\n",
       "      <td>BLUNT</td>\n",
       "      <td>ME2016-01517</td>\n",
       "      <td>rust</td>\n",
       "    </tr>\n",
       "    <tr>\n",
       "      <th>850328</th>\n",
       "      <td>0.0</td>\n",
       "      <td>primary_combined</td>\n",
       "      <td>NormalizedLevenshtein</td>\n",
       "      <td>1.250000e-07</td>\n",
       "      <td>FAILURE</td>\n",
       "      <td>ME2021-06046</td>\n",
       "      <td>rust</td>\n",
       "    </tr>\n",
       "    <tr>\n",
       "      <th>1334413</th>\n",
       "      <td>1.0</td>\n",
       "      <td>primary_combined</td>\n",
       "      <td>JaroWinkler</td>\n",
       "      <td>8.300000e-08</td>\n",
       "      <td>COVID-19</td>\n",
       "      <td>ME2020-14037</td>\n",
       "      <td>rust</td>\n",
       "    </tr>\n",
       "    <tr>\n",
       "      <th>1538637</th>\n",
       "      <td>1.0</td>\n",
       "      <td>primary_combined</td>\n",
       "      <td>JaroWinkler</td>\n",
       "      <td>1.250000e-07</td>\n",
       "      <td>TOXICITY</td>\n",
       "      <td>ME2017-04429</td>\n",
       "      <td>rust</td>\n",
       "    </tr>\n",
       "    <tr>\n",
       "      <th>...</th>\n",
       "      <td>...</td>\n",
       "      <td>...</td>\n",
       "      <td>...</td>\n",
       "      <td>...</td>\n",
       "      <td>...</td>\n",
       "      <td>...</td>\n",
       "      <td>...</td>\n",
       "    </tr>\n",
       "    <tr>\n",
       "      <th>1235177</th>\n",
       "      <td>1.0</td>\n",
       "      <td>primary_combined</td>\n",
       "      <td>JaroWinkler</td>\n",
       "      <td>2.080000e-07</td>\n",
       "      <td>COVID-19</td>\n",
       "      <td>ME2021-10080</td>\n",
       "      <td>rust</td>\n",
       "    </tr>\n",
       "    <tr>\n",
       "      <th>1116390</th>\n",
       "      <td>0.0</td>\n",
       "      <td>primary_combined</td>\n",
       "      <td>NormalizedLevenshtein</td>\n",
       "      <td>1.250000e-07</td>\n",
       "      <td>RUPTURED</td>\n",
       "      <td>ME2018-00404</td>\n",
       "      <td>rust</td>\n",
       "    </tr>\n",
       "    <tr>\n",
       "      <th>1329084</th>\n",
       "      <td>1.0</td>\n",
       "      <td>primary_combined</td>\n",
       "      <td>JaroWinkler</td>\n",
       "      <td>8.300000e-08</td>\n",
       "      <td>CORONA</td>\n",
       "      <td>ME2020-14545</td>\n",
       "      <td>rust</td>\n",
       "    </tr>\n",
       "    <tr>\n",
       "      <th>1193834</th>\n",
       "      <td>0.0</td>\n",
       "      <td>primary_combined</td>\n",
       "      <td>NormalizedLevenshtein</td>\n",
       "      <td>1.250000e-07</td>\n",
       "      <td>DISEASE</td>\n",
       "      <td>ME2015-04709</td>\n",
       "      <td>rust</td>\n",
       "    </tr>\n",
       "    <tr>\n",
       "      <th>1094285</th>\n",
       "      <td>0.0</td>\n",
       "      <td>primary_combined</td>\n",
       "      <td>NormalizedLevenshtein</td>\n",
       "      <td>8.300000e-08</td>\n",
       "      <td>COMBINED</td>\n",
       "      <td>ME2018-04439</td>\n",
       "      <td>rust</td>\n",
       "    </tr>\n",
       "  </tbody>\n",
       "</table>\n",
       "<p>1000 rows × 7 columns</p>\n",
       "</div>"
      ],
      "text/plain": [
       "         distance             level                 metric          time  \\\n",
       "1187551       0.0  primary_combined  NormalizedLevenshtein  1.660000e-07   \n",
       "1589794       1.0  primary_combined            JaroWinkler  8.300000e-08   \n",
       "850328        0.0  primary_combined  NormalizedLevenshtein  1.250000e-07   \n",
       "1334413       1.0  primary_combined            JaroWinkler  8.300000e-08   \n",
       "1538637       1.0  primary_combined            JaroWinkler  1.250000e-07   \n",
       "...           ...               ...                    ...           ...   \n",
       "1235177       1.0  primary_combined            JaroWinkler  2.080000e-07   \n",
       "1116390       0.0  primary_combined  NormalizedLevenshtein  1.250000e-07   \n",
       "1329084       1.0  primary_combined            JaroWinkler  8.300000e-08   \n",
       "1193834       0.0  primary_combined  NormalizedLevenshtein  1.250000e-07   \n",
       "1094285       0.0  primary_combined  NormalizedLevenshtein  8.300000e-08   \n",
       "\n",
       "                 word    casenumber language  \n",
       "1187551  INTOXICATION  ME2016-00132     rust  \n",
       "1589794         BLUNT  ME2016-01517     rust  \n",
       "850328        FAILURE  ME2021-06046     rust  \n",
       "1334413      COVID-19  ME2020-14037     rust  \n",
       "1538637      TOXICITY  ME2017-04429     rust  \n",
       "...               ...           ...      ...  \n",
       "1235177      COVID-19  ME2021-10080     rust  \n",
       "1116390      RUPTURED  ME2018-00404     rust  \n",
       "1329084        CORONA  ME2020-14545     rust  \n",
       "1193834       DISEASE  ME2015-04709     rust  \n",
       "1094285      COMBINED  ME2018-04439     rust  \n",
       "\n",
       "[1000 rows x 7 columns]"
      ]
     },
     "execution_count": 37,
     "metadata": {},
     "output_type": "execute_result"
    }
   ],
   "source": [
    "df[df.language == 'rust'].sample(1000)"
   ]
  },
  {
   "cell_type": "code",
   "execution_count": 38,
   "metadata": {},
   "outputs": [
    {
     "data": {
      "text/html": [
       "<div>\n",
       "<style scoped>\n",
       "    .dataframe tbody tr th:only-of-type {\n",
       "        vertical-align: middle;\n",
       "    }\n",
       "\n",
       "    .dataframe tbody tr th {\n",
       "        vertical-align: top;\n",
       "    }\n",
       "\n",
       "    .dataframe thead th {\n",
       "        text-align: right;\n",
       "    }\n",
       "</style>\n",
       "<table border=\"1\" class=\"dataframe\">\n",
       "  <thead>\n",
       "    <tr style=\"text-align: right;\">\n",
       "      <th></th>\n",
       "      <th></th>\n",
       "      <th></th>\n",
       "      <th>mean</th>\n",
       "      <th>count</th>\n",
       "    </tr>\n",
       "    <tr>\n",
       "      <th>language</th>\n",
       "      <th>metric</th>\n",
       "      <th>level</th>\n",
       "      <th></th>\n",
       "      <th></th>\n",
       "    </tr>\n",
       "  </thead>\n",
       "  <tbody>\n",
       "    <tr>\n",
       "      <th rowspan=\"4\" valign=\"top\">go</th>\n",
       "      <th rowspan=\"2\" valign=\"top\">JaroWinkler</th>\n",
       "      <th>primary_combined</th>\n",
       "      <td>2.517679e-07</td>\n",
       "      <td>296831</td>\n",
       "    </tr>\n",
       "    <tr>\n",
       "      <th>secondarycause</th>\n",
       "      <td>2.647812e-07</td>\n",
       "      <td>113678</td>\n",
       "    </tr>\n",
       "    <tr>\n",
       "      <th rowspan=\"2\" valign=\"top\">NormalizedLevenshtein</th>\n",
       "      <th>primary_combined</th>\n",
       "      <td>3.796005e-07</td>\n",
       "      <td>296831</td>\n",
       "    </tr>\n",
       "    <tr>\n",
       "      <th>secondarycause</th>\n",
       "      <td>4.173001e-07</td>\n",
       "      <td>113678</td>\n",
       "    </tr>\n",
       "    <tr>\n",
       "      <th rowspan=\"4\" valign=\"top\">python</th>\n",
       "      <th rowspan=\"2\" valign=\"top\">JaroWinkler</th>\n",
       "      <th>primary_combined</th>\n",
       "      <td>4.539956e-06</td>\n",
       "      <td>296831</td>\n",
       "    </tr>\n",
       "    <tr>\n",
       "      <th>secondarycause</th>\n",
       "      <td>4.766962e-06</td>\n",
       "      <td>113678</td>\n",
       "    </tr>\n",
       "    <tr>\n",
       "      <th rowspan=\"2\" valign=\"top\">NormalizedLevenshtein</th>\n",
       "      <th>primary_combined</th>\n",
       "      <td>1.139496e-05</td>\n",
       "      <td>296831</td>\n",
       "    </tr>\n",
       "    <tr>\n",
       "      <th>secondarycause</th>\n",
       "      <td>1.252671e-05</td>\n",
       "      <td>113678</td>\n",
       "    </tr>\n",
       "    <tr>\n",
       "      <th rowspan=\"4\" valign=\"top\">rust</th>\n",
       "      <th rowspan=\"2\" valign=\"top\">JaroWinkler</th>\n",
       "      <th>primary_combined</th>\n",
       "      <td>9.870224e-08</td>\n",
       "      <td>296831</td>\n",
       "    </tr>\n",
       "    <tr>\n",
       "      <th>secondarycause</th>\n",
       "      <td>1.077830e-07</td>\n",
       "      <td>113678</td>\n",
       "    </tr>\n",
       "    <tr>\n",
       "      <th rowspan=\"2\" valign=\"top\">NormalizedLevenshtein</th>\n",
       "      <th>primary_combined</th>\n",
       "      <td>1.187342e-07</td>\n",
       "      <td>296831</td>\n",
       "    </tr>\n",
       "    <tr>\n",
       "      <th>secondarycause</th>\n",
       "      <td>1.263724e-07</td>\n",
       "      <td>113678</td>\n",
       "    </tr>\n",
       "  </tbody>\n",
       "</table>\n",
       "</div>"
      ],
      "text/plain": [
       "                                                         mean   count\n",
       "language metric                level                                 \n",
       "go       JaroWinkler           primary_combined  2.517679e-07  296831\n",
       "                               secondarycause    2.647812e-07  113678\n",
       "         NormalizedLevenshtein primary_combined  3.796005e-07  296831\n",
       "                               secondarycause    4.173001e-07  113678\n",
       "python   JaroWinkler           primary_combined  4.539956e-06  296831\n",
       "                               secondarycause    4.766962e-06  113678\n",
       "         NormalizedLevenshtein primary_combined  1.139496e-05  296831\n",
       "                               secondarycause    1.252671e-05  113678\n",
       "rust     JaroWinkler           primary_combined  9.870224e-08  296831\n",
       "                               secondarycause    1.077830e-07  113678\n",
       "         NormalizedLevenshtein primary_combined  1.187342e-07  296831\n",
       "                               secondarycause    1.263724e-07  113678"
      ]
     },
     "execution_count": 38,
     "metadata": {},
     "output_type": "execute_result"
    }
   ],
   "source": [
    "# python takes longest\n",
    "# jaro generally faster than levenshtein\n",
    "groups = df.groupby(['language', 'metric', 'level'])['time'].agg(['mean', 'count'])\n",
    "groups"
   ]
  },
  {
   "cell_type": "code",
   "execution_count": null,
   "metadata": {},
   "outputs": [],
   "source": []
  },
  {
   "cell_type": "code",
   "execution_count": null,
   "metadata": {},
   "outputs": [],
   "source": []
  },
  {
   "cell_type": "code",
   "execution_count": 11,
   "metadata": {},
   "outputs": [
    {
     "data": {
      "text/plain": [
       "count    1437111.000\n",
       "mean           0.285\n",
       "std            0.451\n",
       "min            0.000\n",
       "25%            0.000\n",
       "50%            0.000\n",
       "75%            1.000\n",
       "max            1.000\n",
       "Name: distance, dtype: float64"
      ]
     },
     "execution_count": 11,
     "metadata": {},
     "output_type": "execute_result"
    }
   ],
   "source": [
    "df.distance.describe().round(3)"
   ]
  },
  {
   "cell_type": "code",
   "execution_count": 16,
   "metadata": {},
   "outputs": [
    {
     "data": {
      "text/plain": [
       "count    1437111.000\n",
       "mean           0.000\n",
       "std            0.000\n",
       "min            0.000\n",
       "25%            0.000\n",
       "50%            0.000\n",
       "75%            0.000\n",
       "max            0.017\n",
       "Name: time, dtype: float64"
      ]
     },
     "execution_count": 16,
     "metadata": {},
     "output_type": "execute_result"
    }
   ],
   "source": [
    "df.time.describe().round(3)"
   ]
  },
  {
   "cell_type": "code",
   "execution_count": null,
   "metadata": {},
   "outputs": [],
   "source": []
  }
 ],
 "metadata": {
  "interpreter": {
   "hash": "2dc943ad8fc715a039a4b888e212707dac1753bf6e9bc289e558124b5cdb4f10"
  },
  "kernelspec": {
   "display_name": "Python 3.9.8 64-bit ('.venv': poetry)",
   "language": "python",
   "name": "python3"
  },
  "language_info": {
   "codemirror_mode": {
    "name": "ipython",
    "version": 3
   },
   "file_extension": ".py",
   "mimetype": "text/x-python",
   "name": "python",
   "nbconvert_exporter": "python",
   "pygments_lexer": "ipython3",
   "version": "3.9.9"
  },
  "orig_nbformat": 4
 },
 "nbformat": 4,
 "nbformat_minor": 2
}
