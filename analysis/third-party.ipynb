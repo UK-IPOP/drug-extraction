{
 "cells": [
  {
   "cell_type": "code",
   "execution_count": 1,
   "metadata": {},
   "outputs": [],
   "source": [
    "import pandas as pd\n",
    "from pathlib import Path\n",
    "import json"
   ]
  },
  {
   "cell_type": "code",
   "execution_count": 2,
   "metadata": {},
   "outputs": [
    {
     "data": {
      "text/plain": [
       "[{'casenumber': 'ME2021-10816',\n",
       "  'results': [{'distance': 0,\n",
       "    'level': 'primary_combined',\n",
       "    'metric': 'Normalized Levenshtein',\n",
       "    'time': 4.625e-06,\n",
       "    'word': ''}],\n",
       "  'language': 'go'},\n",
       " {'casenumber': 'ME2021-10815',\n",
       "  'results': [{'distance': 0,\n",
       "    'level': 'primary_combined',\n",
       "    'metric': 'Normalized Levenshtein',\n",
       "    'time': 9.17e-07,\n",
       "    'word': ''}],\n",
       "  'language': 'go'}]"
      ]
     },
     "execution_count": 2,
     "metadata": {},
     "output_type": "execute_result"
    }
   ],
   "source": [
    "# load data, set language field using file name\n",
    "data = []\n",
    "for p in Path('../data/third-party').iterdir():\n",
    "    lang = p.name.split(\"-\")[0]\n",
    "    with open(p, 'r') as file:\n",
    "        for line in file:\n",
    "            line_data = json.loads(line)\n",
    "            line_data['language'] = lang\n",
    "            data.append(line_data)\n",
    "\n",
    "# remove unneeded quotes from some fields\n",
    "for record in data:\n",
    "    record['casenumber'] = record['casenumber'].strip(\"\\\"\")\n",
    "    for result in record['results']:\n",
    "        result['word'] = result['word'].strip(\"\\\"\")\n",
    "\n",
    "data[:2]"
   ]
  },
  {
   "cell_type": "code",
   "execution_count": 3,
   "metadata": {},
   "outputs": [
    {
     "data": {
      "text/plain": [
       "[{'distance': 0,\n",
       "  'level': 'primary_combined',\n",
       "  'metric': 'Normalized Levenshtein',\n",
       "  'time': 4.625e-06,\n",
       "  'word': '',\n",
       "  'casenumber': 'ME2021-10816',\n",
       "  'language': 'go'},\n",
       " {'distance': 0,\n",
       "  'level': 'primary_combined',\n",
       "  'metric': 'Normalized Levenshtein',\n",
       "  'time': 9.17e-07,\n",
       "  'word': '',\n",
       "  'casenumber': 'ME2021-10815',\n",
       "  'language': 'go'}]"
      ]
     },
     "execution_count": 3,
     "metadata": {},
     "output_type": "execute_result"
    }
   ],
   "source": [
    "table = []\n",
    "for case in data:\n",
    "    for result in case['results']:\n",
    "        result['casenumber'] = case['casenumber']\n",
    "        result['language'] = case['language']\n",
    "        table.append(result)\n",
    "\n",
    "table[:2]"
   ]
  },
  {
   "cell_type": "code",
   "execution_count": 4,
   "metadata": {},
   "outputs": [
    {
     "data": {
      "text/plain": [
       "(2381108, 7)"
      ]
     },
     "execution_count": 4,
     "metadata": {},
     "output_type": "execute_result"
    }
   ],
   "source": [
    "df = pd.DataFrame(table)\n",
    "df.distance = df.distance.astype(float)\n",
    "df.time = df.time.astype(float)\n",
    "df.shape"
   ]
  },
  {
   "cell_type": "code",
   "execution_count": 5,
   "metadata": {},
   "outputs": [
    {
     "data": {
      "text/plain": [
       "(409783, 7)"
      ]
     },
     "execution_count": 5,
     "metadata": {},
     "output_type": "execute_result"
    }
   ],
   "source": [
    "df[df.distance > 0].shape"
   ]
  },
  {
   "cell_type": "code",
   "execution_count": 6,
   "metadata": {},
   "outputs": [
    {
     "data": {
      "text/plain": [
       "0.17209761170009927"
      ]
     },
     "execution_count": 6,
     "metadata": {},
     "output_type": "execute_result"
    }
   ],
   "source": [
    "# 17% of records have distance to heroin greater than 0\n",
    "df[df.distance > 0].shape[0] / df.shape[0]"
   ]
  },
  {
   "cell_type": "code",
   "execution_count": 7,
   "metadata": {},
   "outputs": [
    {
     "data": {
      "text/plain": [
       "python    819566\n",
       "go        781684\n",
       "rust      779858\n",
       "Name: language, dtype: int64"
      ]
     },
     "execution_count": 7,
     "metadata": {},
     "output_type": "execute_result"
    }
   ],
   "source": [
    "# python > go > rust in capturing records somehow\n",
    "# shouldn't we all have X number of words and thus X matches?\n",
    "df.language.value_counts()"
   ]
  },
  {
   "cell_type": "code",
   "execution_count": 18,
   "metadata": {},
   "outputs": [
    {
     "data": {
      "text/html": [
       "<div>\n",
       "<style scoped>\n",
       "    .dataframe tbody tr th:only-of-type {\n",
       "        vertical-align: middle;\n",
       "    }\n",
       "\n",
       "    .dataframe tbody tr th {\n",
       "        vertical-align: top;\n",
       "    }\n",
       "\n",
       "    .dataframe thead tr th {\n",
       "        text-align: left;\n",
       "    }\n",
       "\n",
       "    .dataframe thead tr:last-of-type th {\n",
       "        text-align: right;\n",
       "    }\n",
       "</style>\n",
       "<table border=\"1\" class=\"dataframe\">\n",
       "  <thead>\n",
       "    <tr>\n",
       "      <th></th>\n",
       "      <th></th>\n",
       "      <th></th>\n",
       "      <th colspan=\"3\" halign=\"left\">distance</th>\n",
       "      <th colspan=\"3\" halign=\"left\">time</th>\n",
       "    </tr>\n",
       "    <tr>\n",
       "      <th></th>\n",
       "      <th></th>\n",
       "      <th></th>\n",
       "      <th>count</th>\n",
       "      <th>mean</th>\n",
       "      <th>sum</th>\n",
       "      <th>count</th>\n",
       "      <th>mean</th>\n",
       "      <th>sum</th>\n",
       "    </tr>\n",
       "    <tr>\n",
       "      <th>language</th>\n",
       "      <th>metric</th>\n",
       "      <th>level</th>\n",
       "      <th></th>\n",
       "      <th></th>\n",
       "      <th></th>\n",
       "      <th></th>\n",
       "      <th></th>\n",
       "      <th></th>\n",
       "    </tr>\n",
       "  </thead>\n",
       "  <tbody>\n",
       "    <tr>\n",
       "      <th rowspan=\"4\" valign=\"top\">go</th>\n",
       "      <th rowspan=\"2\" valign=\"top\">Jaro-Winkler</th>\n",
       "      <th>primary_combined</th>\n",
       "      <td>277034</td>\n",
       "      <td>0.0</td>\n",
       "      <td>0.0</td>\n",
       "      <td>277034</td>\n",
       "      <td>4.105655e-07</td>\n",
       "      <td>0.113741</td>\n",
       "    </tr>\n",
       "    <tr>\n",
       "      <th>secondarycause</th>\n",
       "      <td>113808</td>\n",
       "      <td>0.0</td>\n",
       "      <td>0.0</td>\n",
       "      <td>113808</td>\n",
       "      <td>4.133425e-07</td>\n",
       "      <td>0.047042</td>\n",
       "    </tr>\n",
       "    <tr>\n",
       "      <th rowspan=\"2\" valign=\"top\">Normalized Levenshtein</th>\n",
       "      <th>primary_combined</th>\n",
       "      <td>277034</td>\n",
       "      <td>0.0</td>\n",
       "      <td>0.0</td>\n",
       "      <td>277034</td>\n",
       "      <td>5.728318e-07</td>\n",
       "      <td>0.158694</td>\n",
       "    </tr>\n",
       "    <tr>\n",
       "      <th>secondarycause</th>\n",
       "      <td>113808</td>\n",
       "      <td>0.0</td>\n",
       "      <td>0.0</td>\n",
       "      <td>113808</td>\n",
       "      <td>5.883698e-07</td>\n",
       "      <td>0.066961</td>\n",
       "    </tr>\n",
       "    <tr>\n",
       "      <th rowspan=\"4\" valign=\"top\">python</th>\n",
       "      <th rowspan=\"2\" valign=\"top\">Jaro-Winkler</th>\n",
       "      <th>primary_combined</th>\n",
       "      <td>296117</td>\n",
       "      <td>0.0</td>\n",
       "      <td>0.0</td>\n",
       "      <td>296117</td>\n",
       "      <td>4.836375e-06</td>\n",
       "      <td>1.432133</td>\n",
       "    </tr>\n",
       "    <tr>\n",
       "      <th>secondarycause</th>\n",
       "      <td>113666</td>\n",
       "      <td>0.0</td>\n",
       "      <td>0.0</td>\n",
       "      <td>113666</td>\n",
       "      <td>5.051103e-06</td>\n",
       "      <td>0.574139</td>\n",
       "    </tr>\n",
       "    <tr>\n",
       "      <th rowspan=\"2\" valign=\"top\">Normalized Levenshtein</th>\n",
       "      <th>primary_combined</th>\n",
       "      <td>296117</td>\n",
       "      <td>1.0</td>\n",
       "      <td>296117.0</td>\n",
       "      <td>296117</td>\n",
       "      <td>1.196198e-05</td>\n",
       "      <td>3.542146</td>\n",
       "    </tr>\n",
       "    <tr>\n",
       "      <th>secondarycause</th>\n",
       "      <td>113666</td>\n",
       "      <td>1.0</td>\n",
       "      <td>113666.0</td>\n",
       "      <td>113666</td>\n",
       "      <td>1.304353e-05</td>\n",
       "      <td>1.482606</td>\n",
       "    </tr>\n",
       "    <tr>\n",
       "      <th rowspan=\"4\" valign=\"top\">rust</th>\n",
       "      <th rowspan=\"2\" valign=\"top\">Jaro-Winkler</th>\n",
       "      <th>primary_combined</th>\n",
       "      <td>276121</td>\n",
       "      <td>0.0</td>\n",
       "      <td>0.0</td>\n",
       "      <td>276121</td>\n",
       "      <td>4.495894e-07</td>\n",
       "      <td>0.124141</td>\n",
       "    </tr>\n",
       "    <tr>\n",
       "      <th>secondarycause</th>\n",
       "      <td>113808</td>\n",
       "      <td>0.0</td>\n",
       "      <td>0.0</td>\n",
       "      <td>113808</td>\n",
       "      <td>4.695087e-07</td>\n",
       "      <td>0.053434</td>\n",
       "    </tr>\n",
       "    <tr>\n",
       "      <th rowspan=\"2\" valign=\"top\">Normalized Levenshtein</th>\n",
       "      <th>primary_combined</th>\n",
       "      <td>276121</td>\n",
       "      <td>0.0</td>\n",
       "      <td>0.0</td>\n",
       "      <td>276121</td>\n",
       "      <td>1.301992e-06</td>\n",
       "      <td>0.359507</td>\n",
       "    </tr>\n",
       "    <tr>\n",
       "      <th>secondarycause</th>\n",
       "      <td>113808</td>\n",
       "      <td>0.0</td>\n",
       "      <td>0.0</td>\n",
       "      <td>113808</td>\n",
       "      <td>1.334438e-06</td>\n",
       "      <td>0.151870</td>\n",
       "    </tr>\n",
       "  </tbody>\n",
       "</table>\n",
       "</div>"
      ],
      "text/plain": [
       "                                                 distance                 \\\n",
       "                                                    count mean       sum   \n",
       "language metric                 level                                      \n",
       "go       Jaro-Winkler           primary_combined   277034  0.0       0.0   \n",
       "                                secondarycause     113808  0.0       0.0   \n",
       "         Normalized Levenshtein primary_combined   277034  0.0       0.0   \n",
       "                                secondarycause     113808  0.0       0.0   \n",
       "python   Jaro-Winkler           primary_combined   296117  0.0       0.0   \n",
       "                                secondarycause     113666  0.0       0.0   \n",
       "         Normalized Levenshtein primary_combined   296117  1.0  296117.0   \n",
       "                                secondarycause     113666  1.0  113666.0   \n",
       "rust     Jaro-Winkler           primary_combined   276121  0.0       0.0   \n",
       "                                secondarycause     113808  0.0       0.0   \n",
       "         Normalized Levenshtein primary_combined   276121  0.0       0.0   \n",
       "                                secondarycause     113808  0.0       0.0   \n",
       "\n",
       "                                                    time                \\\n",
       "                                                   count          mean   \n",
       "language metric                 level                                    \n",
       "go       Jaro-Winkler           primary_combined  277034  4.105655e-07   \n",
       "                                secondarycause    113808  4.133425e-07   \n",
       "         Normalized Levenshtein primary_combined  277034  5.728318e-07   \n",
       "                                secondarycause    113808  5.883698e-07   \n",
       "python   Jaro-Winkler           primary_combined  296117  4.836375e-06   \n",
       "                                secondarycause    113666  5.051103e-06   \n",
       "         Normalized Levenshtein primary_combined  296117  1.196198e-05   \n",
       "                                secondarycause    113666  1.304353e-05   \n",
       "rust     Jaro-Winkler           primary_combined  276121  4.495894e-07   \n",
       "                                secondarycause    113808  4.695087e-07   \n",
       "         Normalized Levenshtein primary_combined  276121  1.301992e-06   \n",
       "                                secondarycause    113808  1.334438e-06   \n",
       "\n",
       "                                                            \n",
       "                                                       sum  \n",
       "language metric                 level                       \n",
       "go       Jaro-Winkler           primary_combined  0.113741  \n",
       "                                secondarycause    0.047042  \n",
       "         Normalized Levenshtein primary_combined  0.158694  \n",
       "                                secondarycause    0.066961  \n",
       "python   Jaro-Winkler           primary_combined  1.432133  \n",
       "                                secondarycause    0.574139  \n",
       "         Normalized Levenshtein primary_combined  3.542146  \n",
       "                                secondarycause    1.482606  \n",
       "rust     Jaro-Winkler           primary_combined  0.124141  \n",
       "                                secondarycause    0.053434  \n",
       "         Normalized Levenshtein primary_combined  0.359507  \n",
       "                                secondarycause    0.151870  "
      ]
     },
     "execution_count": 18,
     "metadata": {},
     "output_type": "execute_result"
    }
   ],
   "source": [
    "# rust takes longest\n",
    "# python has higher average distance?\n",
    "# jaro generally faster than levenshtein\n",
    "groups = df.groupby(['language', 'metric', 'level']).aggregate([\"count\", \"mean\", \"sum\"])\n",
    "groups"
   ]
  },
  {
   "cell_type": "code",
   "execution_count": 15,
   "metadata": {},
   "outputs": [
    {
     "data": {
      "text/plain": [
       "language  metric                  level           \n",
       "go        Jaro-Winkler            secondarycause      0.047042\n",
       "rust      Jaro-Winkler            secondarycause      0.053434\n",
       "go        Normalized Levenshtein  secondarycause      0.066961\n",
       "          Jaro-Winkler            primary_combined    0.113741\n",
       "rust      Jaro-Winkler            primary_combined    0.124141\n",
       "          Normalized Levenshtein  secondarycause      0.151870\n",
       "go        Normalized Levenshtein  primary_combined    0.158694\n",
       "rust      Normalized Levenshtein  primary_combined    0.359507\n",
       "python    Jaro-Winkler            secondarycause      0.574139\n",
       "                                  primary_combined    1.432133\n",
       "          Normalized Levenshtein  secondarycause      1.482606\n",
       "                                  primary_combined    3.542146\n",
       "dtype: float64"
      ]
     },
     "execution_count": 15,
     "metadata": {},
     "output_type": "execute_result"
    }
   ],
   "source": [
    "(groups['time']['mean'] * groups['time']['count']).sort_values()"
   ]
  },
  {
   "cell_type": "code",
   "execution_count": 11,
   "metadata": {},
   "outputs": [
    {
     "data": {
      "text/plain": [
       "count    1437111.000\n",
       "mean           0.285\n",
       "std            0.451\n",
       "min            0.000\n",
       "25%            0.000\n",
       "50%            0.000\n",
       "75%            1.000\n",
       "max            1.000\n",
       "Name: distance, dtype: float64"
      ]
     },
     "execution_count": 11,
     "metadata": {},
     "output_type": "execute_result"
    }
   ],
   "source": [
    "df.distance.describe().round(3)"
   ]
  },
  {
   "cell_type": "code",
   "execution_count": 16,
   "metadata": {},
   "outputs": [
    {
     "data": {
      "text/plain": [
       "count    1437111.000\n",
       "mean           0.000\n",
       "std            0.000\n",
       "min            0.000\n",
       "25%            0.000\n",
       "50%            0.000\n",
       "75%            0.000\n",
       "max            0.017\n",
       "Name: time, dtype: float64"
      ]
     },
     "execution_count": 16,
     "metadata": {},
     "output_type": "execute_result"
    }
   ],
   "source": [
    "df.time.describe().round(3)"
   ]
  },
  {
   "cell_type": "code",
   "execution_count": null,
   "metadata": {},
   "outputs": [],
   "source": []
  }
 ],
 "metadata": {
  "interpreter": {
   "hash": "2dc943ad8fc715a039a4b888e212707dac1753bf6e9bc289e558124b5cdb4f10"
  },
  "kernelspec": {
   "display_name": "Python 3.9.8 64-bit ('.venv': poetry)",
   "language": "python",
   "name": "python3"
  },
  "language_info": {
   "codemirror_mode": {
    "name": "ipython",
    "version": 3
   },
   "file_extension": ".py",
   "mimetype": "text/x-python",
   "name": "python",
   "nbconvert_exporter": "python",
   "pygments_lexer": "ipython3",
   "version": "3.9.9"
  },
  "orig_nbformat": 4
 },
 "nbformat": 4,
 "nbformat_minor": 2
}
