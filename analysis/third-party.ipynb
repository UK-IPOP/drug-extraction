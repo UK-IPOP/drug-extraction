{
 "cells": [
  {
   "cell_type": "code",
   "execution_count": 1,
   "metadata": {},
   "outputs": [],
   "source": [
    "import pandas as pd\n",
    "from pathlib import Path\n",
    "import json"
   ]
  },
  {
   "cell_type": "code",
   "execution_count": 2,
   "metadata": {},
   "outputs": [
    {
     "data": {
      "text/plain": [
       "[{'casenumber': 'ME2021-10816',\n",
       "  'results': [{'distance': 0,\n",
       "    'level': 'primary_combined',\n",
       "    'metric': 'Normalized Levenshtein',\n",
       "    'time': 4.625e-06,\n",
       "    'word': ''}],\n",
       "  'language': 'go'},\n",
       " {'casenumber': 'ME2021-10815',\n",
       "  'results': [{'distance': 0,\n",
       "    'level': 'primary_combined',\n",
       "    'metric': 'Normalized Levenshtein',\n",
       "    'time': 9.17e-07,\n",
       "    'word': ''}],\n",
       "  'language': 'go'}]"
      ]
     },
     "execution_count": 2,
     "metadata": {},
     "output_type": "execute_result"
    }
   ],
   "source": [
    "# load data, set language field using file name\n",
    "data = []\n",
    "for p in Path('../data/third-party').iterdir():\n",
    "    lang = p.name.split(\"-\")[0]\n",
    "    with open(p, 'r') as file:\n",
    "        for line in file:\n",
    "            line_data = json.loads(line)\n",
    "            line_data['language'] = lang\n",
    "            data.append(line_data)\n",
    "\n",
    "# remove unneeded quotes from some fields\n",
    "for record in data:\n",
    "    record['casenumber'] = record['casenumber'].strip(\"\\\"\")\n",
    "    for result in record['results']:\n",
    "        result['word'] = result['word'].strip(\"\\\"\")\n",
    "\n",
    "data[:2]"
   ]
  },
  {
   "cell_type": "code",
   "execution_count": 3,
   "metadata": {},
   "outputs": [
    {
     "data": {
      "text/plain": [
       "[{'distance': 0,\n",
       "  'level': 'primary_combined',\n",
       "  'metric': 'Normalized Levenshtein',\n",
       "  'time': 4.625e-06,\n",
       "  'word': '',\n",
       "  'casenumber': 'ME2021-10816',\n",
       "  'language': 'go'},\n",
       " {'distance': 0,\n",
       "  'level': 'primary_combined',\n",
       "  'metric': 'Normalized Levenshtein',\n",
       "  'time': 9.17e-07,\n",
       "  'word': '',\n",
       "  'casenumber': 'ME2021-10815',\n",
       "  'language': 'go'}]"
      ]
     },
     "execution_count": 3,
     "metadata": {},
     "output_type": "execute_result"
    }
   ],
   "source": [
    "table = []\n",
    "for case in data:\n",
    "    for result in case['results']:\n",
    "        result['casenumber'] = case['casenumber']\n",
    "        result['language'] = case['language']\n",
    "        table.append(result)\n",
    "\n",
    "table[:2]"
   ]
  },
  {
   "cell_type": "code",
   "execution_count": 4,
   "metadata": {},
   "outputs": [
    {
     "data": {
      "text/plain": [
       "(2381108, 7)"
      ]
     },
     "execution_count": 4,
     "metadata": {},
     "output_type": "execute_result"
    }
   ],
   "source": [
    "df = pd.DataFrame(table)\n",
    "df.distance = df.distance.astype(float)\n",
    "df.time = df.time.astype(float)\n",
    "df.shape"
   ]
  },
  {
   "cell_type": "code",
   "execution_count": 5,
   "metadata": {},
   "outputs": [
    {
     "data": {
      "text/plain": [
       "(409783, 7)"
      ]
     },
     "execution_count": 5,
     "metadata": {},
     "output_type": "execute_result"
    }
   ],
   "source": [
    "df[df.distance > 0].shape"
   ]
  },
  {
   "cell_type": "code",
   "execution_count": 6,
   "metadata": {},
   "outputs": [
    {
     "data": {
      "text/plain": [
       "0.17209761170009927"
      ]
     },
     "execution_count": 6,
     "metadata": {},
     "output_type": "execute_result"
    }
   ],
   "source": [
    "# 17% of records have distance to heroin greater than 0\n",
    "df[df.distance > 0].shape[0] / df.shape[0]"
   ]
  },
  {
   "cell_type": "code",
   "execution_count": 7,
   "metadata": {},
   "outputs": [
    {
     "data": {
      "text/plain": [
       "python    819566\n",
       "go        781684\n",
       "rust      779858\n",
       "Name: language, dtype: int64"
      ]
     },
     "execution_count": 7,
     "metadata": {},
     "output_type": "execute_result"
    }
   ],
   "source": [
    "# python > go > rust in capturing records somehow\n",
    "# shouldn't we all have X number of words and thus X matches?\n",
    "df.language.value_counts()"
   ]
  },
  {
   "cell_type": "code",
   "execution_count": 10,
   "metadata": {},
   "outputs": [
    {
     "data": {
      "text/html": [
       "<div>\n",
       "<style scoped>\n",
       "    .dataframe tbody tr th:only-of-type {\n",
       "        vertical-align: middle;\n",
       "    }\n",
       "\n",
       "    .dataframe tbody tr th {\n",
       "        vertical-align: top;\n",
       "    }\n",
       "\n",
       "    .dataframe thead th {\n",
       "        text-align: right;\n",
       "    }\n",
       "</style>\n",
       "<table border=\"1\" class=\"dataframe\">\n",
       "  <thead>\n",
       "    <tr style=\"text-align: right;\">\n",
       "      <th></th>\n",
       "      <th></th>\n",
       "      <th></th>\n",
       "      <th>distance</th>\n",
       "      <th>time</th>\n",
       "    </tr>\n",
       "    <tr>\n",
       "      <th>language</th>\n",
       "      <th>metric</th>\n",
       "      <th>level</th>\n",
       "      <th></th>\n",
       "      <th></th>\n",
       "    </tr>\n",
       "  </thead>\n",
       "  <tbody>\n",
       "    <tr>\n",
       "      <th rowspan=\"4\" valign=\"top\">go</th>\n",
       "      <th rowspan=\"2\" valign=\"top\">Jaro-Winkler</th>\n",
       "      <th>primary_combined</th>\n",
       "      <td>0.0</td>\n",
       "      <td>0.00000</td>\n",
       "    </tr>\n",
       "    <tr>\n",
       "      <th>secondarycause</th>\n",
       "      <td>0.0</td>\n",
       "      <td>0.00000</td>\n",
       "    </tr>\n",
       "    <tr>\n",
       "      <th rowspan=\"2\" valign=\"top\">Normalized Levenshtein</th>\n",
       "      <th>primary_combined</th>\n",
       "      <td>0.0</td>\n",
       "      <td>0.00000</td>\n",
       "    </tr>\n",
       "    <tr>\n",
       "      <th>secondarycause</th>\n",
       "      <td>0.0</td>\n",
       "      <td>0.00000</td>\n",
       "    </tr>\n",
       "    <tr>\n",
       "      <th rowspan=\"4\" valign=\"top\">python</th>\n",
       "      <th rowspan=\"2\" valign=\"top\">Jaro-Winkler</th>\n",
       "      <th>primary_combined</th>\n",
       "      <td>0.0</td>\n",
       "      <td>0.00000</td>\n",
       "    </tr>\n",
       "    <tr>\n",
       "      <th>secondarycause</th>\n",
       "      <td>0.0</td>\n",
       "      <td>0.00001</td>\n",
       "    </tr>\n",
       "    <tr>\n",
       "      <th rowspan=\"2\" valign=\"top\">Normalized Levenshtein</th>\n",
       "      <th>primary_combined</th>\n",
       "      <td>1.0</td>\n",
       "      <td>0.00001</td>\n",
       "    </tr>\n",
       "    <tr>\n",
       "      <th>secondarycause</th>\n",
       "      <td>1.0</td>\n",
       "      <td>0.00001</td>\n",
       "    </tr>\n",
       "    <tr>\n",
       "      <th rowspan=\"4\" valign=\"top\">rust</th>\n",
       "      <th rowspan=\"2\" valign=\"top\">Jaro-Winkler</th>\n",
       "      <th>primary_combined</th>\n",
       "      <td>0.0</td>\n",
       "      <td>0.00000</td>\n",
       "    </tr>\n",
       "    <tr>\n",
       "      <th>secondarycause</th>\n",
       "      <td>0.0</td>\n",
       "      <td>0.00000</td>\n",
       "    </tr>\n",
       "    <tr>\n",
       "      <th rowspan=\"2\" valign=\"top\">Normalized Levenshtein</th>\n",
       "      <th>primary_combined</th>\n",
       "      <td>0.0</td>\n",
       "      <td>0.00000</td>\n",
       "    </tr>\n",
       "    <tr>\n",
       "      <th>secondarycause</th>\n",
       "      <td>0.0</td>\n",
       "      <td>0.00000</td>\n",
       "    </tr>\n",
       "  </tbody>\n",
       "</table>\n",
       "</div>"
      ],
      "text/plain": [
       "                                                  distance     time\n",
       "language metric                 level                              \n",
       "go       Jaro-Winkler           primary_combined       0.0  0.00000\n",
       "                                secondarycause         0.0  0.00000\n",
       "         Normalized Levenshtein primary_combined       0.0  0.00000\n",
       "                                secondarycause         0.0  0.00000\n",
       "python   Jaro-Winkler           primary_combined       0.0  0.00000\n",
       "                                secondarycause         0.0  0.00001\n",
       "         Normalized Levenshtein primary_combined       1.0  0.00001\n",
       "                                secondarycause         1.0  0.00001\n",
       "rust     Jaro-Winkler           primary_combined       0.0  0.00000\n",
       "                                secondarycause         0.0  0.00000\n",
       "         Normalized Levenshtein primary_combined       0.0  0.00000\n",
       "                                secondarycause         0.0  0.00000"
      ]
     },
     "execution_count": 10,
     "metadata": {},
     "output_type": "execute_result"
    }
   ],
   "source": [
    "# rust takes longest\n",
    "# python has higher average distance?\n",
    "# jaro generally faster than levenshtein\n",
    "df.groupby(['language', 'metric', 'level']).mean().round(5)"
   ]
  },
  {
   "cell_type": "code",
   "execution_count": 11,
   "metadata": {},
   "outputs": [
    {
     "data": {
      "text/plain": [
       "count    1437111.000\n",
       "mean           0.285\n",
       "std            0.451\n",
       "min            0.000\n",
       "25%            0.000\n",
       "50%            0.000\n",
       "75%            1.000\n",
       "max            1.000\n",
       "Name: distance, dtype: float64"
      ]
     },
     "execution_count": 11,
     "metadata": {},
     "output_type": "execute_result"
    }
   ],
   "source": [
    "df.distance.describe().round(3)"
   ]
  },
  {
   "cell_type": "code",
   "execution_count": 16,
   "metadata": {},
   "outputs": [
    {
     "data": {
      "text/plain": [
       "count    1437111.000\n",
       "mean           0.000\n",
       "std            0.000\n",
       "min            0.000\n",
       "25%            0.000\n",
       "50%            0.000\n",
       "75%            0.000\n",
       "max            0.017\n",
       "Name: time, dtype: float64"
      ]
     },
     "execution_count": 16,
     "metadata": {},
     "output_type": "execute_result"
    }
   ],
   "source": [
    "df.time.describe().round(3)"
   ]
  },
  {
   "cell_type": "code",
   "execution_count": null,
   "metadata": {},
   "outputs": [],
   "source": []
  }
 ],
 "metadata": {
  "interpreter": {
   "hash": "2dc943ad8fc715a039a4b888e212707dac1753bf6e9bc289e558124b5cdb4f10"
  },
  "kernelspec": {
   "display_name": "Python 3.9.8 64-bit ('.venv': poetry)",
   "language": "python",
   "name": "python3"
  },
  "language_info": {
   "codemirror_mode": {
    "name": "ipython",
    "version": 3
   },
   "file_extension": ".py",
   "mimetype": "text/x-python",
   "name": "python",
   "nbconvert_exporter": "python",
   "pygments_lexer": "ipython3",
   "version": "3.9.9"
  },
  "orig_nbformat": 4
 },
 "nbformat": 4,
 "nbformat_minor": 2
}
